{
 "cells": [
  {
   "cell_type": "markdown",
   "metadata": {},
   "source": [
    "# Adding parameters to functions\n",
    "\n",
    "## Motivation\n",
    "\n",
    "In the previous units you have seen that you can use functions with parameters. There are cases, where no parameter is\n",
    "needed in a function, for example a function for some kind of greeting, which should always be the same. Or a function\n",
    "which will write the current time in a predefined format to a terminal or a log.\n",
    "\n",
    "Parameters, however make it possible to customize these functions to your need. In case of the above examples, you could\n",
    "add a name to the greeting to personalize it or use a parameter in the *current time*-function to change the formatting\n",
    "of the output, e.g. 24h/12h format.  \n",
    "\n",
    "Parameters make it possible to *reuse* a function for different inputs and do the same operation on different values.\n",
    "\n",
    "## Using parameters\n",
    "\n",
    "A function has an optional parameter list. This means that a function has either:\n",
    "- no parameter\n",
    "- one parameter\n",
    "- multiple parameters\n",
    "\n",
    "The following cell contains examples of functions with different parameter lists.  "
   ]
  },
  {
   "cell_type": "code",
   "execution_count": 1,
   "metadata": {},
   "outputs": [
    {
     "name": "stdout",
     "output_type": "stream",
     "text": [
      "What is the Answer to Life, The Universe, and Everything? 42\n",
      "What is the sum of 39 and 3? 42\n"
     ]
    }
   ],
   "source": [
    "def the_answer_to_everything():\n",
    "    return 42\n",
    "\n",
    "\n",
    "print(\n",
    "    \"What is the Answer to Life, The Universe, and Everything?\",\n",
    "    the_answer_to_everything(),\n",
    ")\n",
    "\n",
    "\n",
    "def sum(a, b):\n",
    "    return a + b\n",
    "\n",
    "\n",
    "print(\"What is the sum of 39 and 3?\", sum(39, 3))"
   ]
  },
  {
   "cell_type": "markdown",
   "metadata": {},
   "source": [
    "## Exercise\n",
    "\n",
    "Now it is your turn. Write a Python function that checks whether a given string is a\n",
    "[palindrome](https://en.wikipedia.org/wiki/Palindrome).  Examples of palindromes are Anna, Otto, racecar or 24742. So\n",
    "palindromes are words or phrases that read the same backward and forward.\n",
    "\n",
    "The return value of your function should simply be `True` or `False`, depending on whether the string passed as a\n",
    "parameter is a palindrome or not. Note that there are several approaches to solve this exercise. You could, for example, use \n",
    "a for loop (more complex) or slicing to solve the exercise."
   ]
  },
  {
   "cell_type": "code",
   "execution_count": 8,
   "metadata": {},
   "outputs": [
    {
     "name": "stdout",
     "output_type": "stream",
     "text": [
      "True\n"
     ]
    }
   ],
   "source": [
    "s = str(input(\"Please enter a palindrome word here: \"))\n",
    "\n",
    "def is_palindrome(s):\n",
    "    s = s.lower()\n",
    "\n",
    "    if s == s[::-1]:\n",
    "        return True\n",
    "    else:\n",
    "        return False\n",
    "    \n",
    "print(is_palindrome(s))\n"
   ]
  },
  {
   "cell_type": "markdown",
   "metadata": {},
   "source": [
    "# Default Values \n",
    "It is also possible to define default values for parameters. These default values are used if no value is passed for a\n",
    "parameter upon calling the function.\n",
    "\n",
    "The following example shows a function for multiplying a number by a certain factor. The parameter factor is set to the\n",
    "default value `2`. The function can now be called with or without passing the parameter factor."
   ]
  },
  {
   "cell_type": "code",
   "execution_count": 23,
   "metadata": {},
   "outputs": [
    {
     "name": "stdout",
     "output_type": "stream",
     "text": [
      "250000\n"
     ]
    }
   ],
   "source": [
    "number = int(input(\"Please enter a number: \"))\n",
    "\n",
    "factor_input = int(input(\"Please enter the multiplying factor: \"))\n",
    "    \n",
    "\n",
    "def multiply_with_factor():\n",
    "    number\n",
    "    factor_input\n",
    "    return number * factor_input\n",
    "\n",
    "\n",
    "print(multiply_with_factor())"
   ]
  },
  {
   "cell_type": "markdown",
   "metadata": {},
   "source": [
    "So far, functions in our examples have been called by passing parameters according to the order of the parameter list.\n",
    "But Python also offers the possibility to address particular parameters using their names. \n",
    "\n",
    "Addressing function parameters using their names makes especially sense if it is combined with standard values. A good\n",
    "example for this are the parameters of the `print()` function already mentioned. You can access the `docstring` of\n",
    "functions in Jupyter Notebooks pretty easily by entering the function name (without brackets!) followed by a \"?\" into a\n",
    "cell and executing it:"
   ]
  },
  {
   "cell_type": "code",
   "execution_count": 24,
   "metadata": {},
   "outputs": [
    {
     "name": "stdout",
     "output_type": "stream",
     "text": [
      "\u001b[1;31mSignature:\u001b[0m \u001b[0mprint\u001b[0m\u001b[1;33m(\u001b[0m\u001b[1;33m*\u001b[0m\u001b[0margs\u001b[0m\u001b[1;33m,\u001b[0m \u001b[0msep\u001b[0m\u001b[1;33m=\u001b[0m\u001b[1;34m' '\u001b[0m\u001b[1;33m,\u001b[0m \u001b[0mend\u001b[0m\u001b[1;33m=\u001b[0m\u001b[1;34m'\\n'\u001b[0m\u001b[1;33m,\u001b[0m \u001b[0mfile\u001b[0m\u001b[1;33m=\u001b[0m\u001b[1;32mNone\u001b[0m\u001b[1;33m,\u001b[0m \u001b[0mflush\u001b[0m\u001b[1;33m=\u001b[0m\u001b[1;32mFalse\u001b[0m\u001b[1;33m)\u001b[0m\u001b[1;33m\u001b[0m\u001b[1;33m\u001b[0m\u001b[0m\n",
      "\u001b[1;31mDocstring:\u001b[0m\n",
      "Prints the values to a stream, or to sys.stdout by default.\n",
      "\n",
      "sep\n",
      "  string inserted between values, default a space.\n",
      "end\n",
      "  string appended after the last value, default a newline.\n",
      "file\n",
      "  a file-like object (stream); defaults to the current sys.stdout.\n",
      "flush\n",
      "  whether to forcibly flush the stream.\n",
      "\u001b[1;31mType:\u001b[0m      builtin_function_or_method"
     ]
    }
   ],
   "source": [
    "print?"
   ]
  },
  {
   "cell_type": "markdown",
   "metadata": {},
   "source": [
    "In the [Python Standard library](https://docs.python.org/3/library/functions.html#print) it is defined as\n",
    "follows:\n",
    "\n",
    "```\n",
    "print(* objects, sep = ' ', end = '\\n', file = sys.stdout, flush = False)\n",
    "```\n",
    "\n",
    "The `print()`function defines the parameters `sep` and `end`, with the default values `' '` and `'\\n'` respectively. For\n",
    "now, we are ignoring the other parameters.  \n",
    "Using the parameter `sep` we can provide a different separator for the parameters of the `print()` function.  \n",
    "Using the `end` parameter, we can provide a different value to end the line (instead of the\n",
    "[newline](https://en.wikipedia.org/wiki/Newline) escape sequence). Of course, it's also possible to combine both."
   ]
  },
  {
   "cell_type": "code",
   "execution_count": 25,
   "metadata": {},
   "outputs": [
    {
     "name": "stdout",
     "output_type": "stream",
     "text": [
      "Happy Python programming\n",
      "Happy 🐍 Python 🐍 programming\n",
      "Happy Python programming 👍\n",
      "Happy 🐍 Python 🐍 programming 👍"
     ]
    }
   ],
   "source": [
    "print(\"Happy\", \"Python\", \"programming\")\n",
    "print(\"Happy\", \"Python\", \"programming\", sep=\" 🐍 \")\n",
    "\n",
    "print(\"Happy\", \"Python\", \"programming\", end=\" 👍\")\n",
    "print()\n",
    "print(\"Happy\", \"Python\", \"programming\", end=\" 👍\", sep=\" 🐍 \")"
   ]
  },
  {
   "cell_type": "markdown",
   "metadata": {},
   "source": [
    "# Appendix: Escape characters\n",
    "To be able to display some special characters in Python, there are so-called\n",
    "[escape characters](https://docs.python.org/3/reference/lexical_analysis.html#string-and-bytes-literals).\n",
    "These are introduced with a backslash `\\` and have special\n",
    "[meanings]((https://www.w3schools.com/python/gloss_python_escape_characters.asp)) (table not complete):\n",
    "\n",
    "| Character | Meaning              |\n",
    "| --------- | -------------------- |\n",
    "| `\\n`      | Line break, new line |\n",
    "| `\\t`      | Tabulator            |\n",
    "| `\\\"`      | Quotation mark       |\n",
    "\n",
    "A short addition to the last entry in the table: If you want to make a quotation mark in a string, you can use this.\n",
    "\n",
    "Quiz question: Why is the `0` of the second loop placed behind the numbers of the first loop? How can this be changed?"
   ]
  },
  {
   "cell_type": "code",
   "execution_count": 26,
   "metadata": {},
   "outputs": [
    {
     "name": "stdout",
     "output_type": "stream",
     "text": [
      "0 1 2 3 4 0\n",
      "\n",
      "1\n",
      "\n",
      "2\n",
      "\n",
      "3\n",
      "\n",
      "4\n",
      "\n"
     ]
    }
   ],
   "source": [
    "for i in range(5):\n",
    "    print(i, end=\" \")\n",
    "\n",
    "for i in range(5):\n",
    "    print(i, end=\"\\n\\n\")"
   ]
  },
  {
   "cell_type": "markdown",
   "metadata": {},
   "source": [
    "## Exercise 1: Factorial\n",
    "In mathematics, the factorial of a non-negative integer `n`, denoted by `n!`  is the product of all positive integers less than or equal to `n` (cf. [Wikipedia: Factorial](https://en.wikipedia.org/wiki/Factorial)). For example:\n",
    "\n",
    "```\n",
    "    5! = 1 * 2 * 3 * 4 * 5 = 120\n",
    "    3! = 1 * 2 * 3 = 6\n",
    "    1! = 1\n",
    "```\n",
    "Implement a function called `fac`, which gets an integer `n` as the input parameter and returns the factorial of `n`. Then, in a second cell, ask for an integer and call the function `fac` with this integer as an argument. Output the return value of `fac` using the `print()`."
   ]
  },
  {
   "cell_type": "code",
   "execution_count": 46,
   "metadata": {},
   "outputs": [
    {
     "name": "stdout",
     "output_type": "stream",
     "text": [
      "The factorial of 4 is 24.\n"
     ]
    }
   ],
   "source": [
    "n = int(input(\"Please enter a number to find the factorial output: \"))\n",
    "\n",
    "def fac(n):\n",
    "    result = 1\n",
    "    for n in range(1, n+1):\n",
    "        result *= n\n",
    "    return result\n",
    "\n",
    "print(\"The factorial of\", n, \"is\", str(fac(n)) +\".\")\n",
    "\n"
   ]
  },
  {
   "cell_type": "markdown",
   "metadata": {},
   "source": [
    "## Exercise 2: BMI\n",
    "The Body-Mass-Index (BMI) is a value derived from the weight and the height of a person (cd. [Wikipedia: Body-Mass-Index](https://en.wikipedia.org/wiki/Body_mass_index)). The weight has to be used in `kg`, the height has to be given in `m`. The formula, to calculate the `BMI` is defined as follows: `BMI = kg/m²`. Example:\n",
    "\n",
    "```\n",
    "    weight = 80kg\n",
    "    height = 1.80m\n",
    "    BMI = 80/1.8² = 24.69\n",
    "```\n",
    "\n",
    "Implement a function called `BMI`, which takes two input values namely weight and height, calculates the BMI according to the above formula and returns the result.\n",
    "\n",
    "Get weight and height by the `input()` and output the BMI by `print()`."
   ]
  },
  {
   "cell_type": "code",
   "execution_count": 10,
   "metadata": {},
   "outputs": [
    {
     "name": "stdout",
     "output_type": "stream",
     "text": [
      "Your BMI score is: 24.691358024691358\n"
     ]
    }
   ],
   "source": [
    "weight = int(input(\"Please enter your weight in kilograms (kg) : \"))\n",
    "height = float(input(\"Please enter your height in meters (m): \"))\n",
    "\n",
    "def BMI():\n",
    "    return weight/(height**2)\n",
    "print(\"Your BMI score is:\", BMI())"
   ]
  }
 ],
 "metadata": {
  "interpreter": {
   "hash": "fb768b9b3ecf961ba38b0c7e836f7f85a23c08c1797458e7c652470f2ae90c9c"
  },
  "kernelspec": {
   "display_name": "Python 3",
   "language": "python",
   "name": "python3"
  },
  "language_info": {
   "codemirror_mode": {
    "name": "ipython",
    "version": 3
   },
   "file_extension": ".py",
   "mimetype": "text/x-python",
   "name": "python",
   "nbconvert_exporter": "python",
   "pygments_lexer": "ipython3",
   "version": "3.13.0"
  }
 },
 "nbformat": 4,
 "nbformat_minor": 2
}
