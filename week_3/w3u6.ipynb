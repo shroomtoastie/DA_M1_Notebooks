{
 "cells": [
  {
   "cell_type": "markdown",
   "metadata": {},
   "source": [
    "# The [while](https://docs.python.org/3/reference/compound_stmts.html#while) loop\n",
    "\n",
    "You already know the `for` loop. There is a second loop, the `while` loop. The `while` loop offers more options, but is\n",
    "also a bit more complex in its usage.\n",
    "\n",
    "The `for` loop fits whenever you have a sequence, such as a list or a given number of elements like a `range`. However,\n",
    "there are also situations where no sequence is available and yet a certain operation needs to be repeated multiple times:\n",
    "- At the ATM a PIN has to be entered (again and again) until it is entered correctly\n",
    "- A number should be entered until it is actually a number and the input string can be converted to an integer\n",
    "- A user should answer questions until no new question comes up. In this case a `for` loop works only with \"trickery\",\n",
    "  it is better to use a `while` loop.\n",
    "\n",
    "\n",
    "## Syntax of the `while` loop\n",
    "\n",
    "A `while` loop is (in the simplest case) constructed as follows:\n",
    "\n",
    "```Python\n",
    "while condition:\n",
    "    statement1\n",
    "    statement2\n",
    "    ...\n",
    "    statementN\n",
    "```\n",
    "\n",
    "The loop begins with the keyword `while`, followed by a condition (like in an `if` branch) followed by a colon. The\n",
    "following block is indented as in all other control structures. When no more lines are indented, the `while` loop is\n",
    "finished and the program continues after the loop in the non-indented part.\n",
    "\n",
    "\n",
    "## Semantics of the `while` loop\n",
    "\n",
    "When the program reaches the loop, the condition behind the `while` keyword is checked. If this condition is `True`, the\n",
    "loop body is executed. At the end of the loop body, the program jumps back to the `while` and checks the condition\n",
    "again.  \n",
    "The loop is executed until the condition is `False`. After that, the program will continue after the\n",
    "loop.  \n",
    "What happens if the condition is `False` when the `while` loop is reached the first time? Then the loop body is simply\n",
    "skipped and the program continues directly after the loop.\n",
    "\n",
    "\n",
    "## Example: `input()` until a number is entered\n",
    "\n",
    "You know the problem: A number is to be entered via an `input()`. In order to execute calculations with the number, it\n",
    "must first be converted from a string to an number (e.g. an integer with the function `int()`). And if the user does\n",
    "not enter a number, the program crashes during the conversion."
   ]
  },
  {
   "cell_type": "code",
   "execution_count": 1,
   "metadata": {},
   "outputs": [],
   "source": [
    "number = input(\"Please enter a number: \")\n",
    "number = int(number)"
   ]
  },
  {
   "cell_type": "markdown",
   "metadata": {},
   "source": [
    "This situation can be prevented with the help of a `while` loop: In the condition of the loop it is checked whether the\n",
    "input is a number (method `.isdecimal()`). As long as no number is entered, an `input()` must be entered again and\n",
    "again. Only when a number is finally entered, the conversion into a number takes place **after** the loop."
   ]
  },
  {
   "cell_type": "code",
   "execution_count": 3,
   "metadata": {},
   "outputs": [
    {
     "name": "stdout",
     "output_type": "stream",
     "text": [
      "4444\n"
     ]
    }
   ],
   "source": [
    "# The loop runs until a suitable input is available\n",
    "number = \"x\"\n",
    "while not (number.isdecimal()):\n",
    "    number = input(\"Please enter number: \")\n",
    "\n",
    "number = int(number)\n",
    "print(number)"
   ]
  },
  {
   "cell_type": "markdown",
   "metadata": {},
   "source": [
    "One *imperfection* of the loop can already be seen in the above example: In order for the condition to be checked, the\n",
    "variable `number` must have been initialized previously. However **not** with a number, of course. The statement `number\n",
    "= \"x\"` has the only purpose to initialize the variable with something else than an integer.\n",
    "\n",
    "Alternatively, the following variant would also be possible:"
   ]
  },
  {
   "cell_type": "code",
   "execution_count": 1,
   "metadata": {},
   "outputs": [
    {
     "name": "stdout",
     "output_type": "stream",
     "text": [
      "444\n"
     ]
    }
   ],
   "source": [
    "# The loop runs until a suitable input is available\n",
    "number = input(\"Please enter number: \")\n",
    "while not (number.isdecimal()):\n",
    "    number = input(\"Please enter number: \")\n",
    "\n",
    "number = int(number)\n",
    "print(number)"
   ]
  },
  {
   "cell_type": "markdown",
   "metadata": {},
   "source": [
    "In this case, the statement in line two is not quite as \"meaningless\" as before. However, you now have an unpleasant\n",
    "code, since the same `input` statement appears twice in quick succession. This does not look like an elegant programming\n",
    "style either. Question: Why is the statement `int(number)` in both programs only allowed after the loop?\n",
    "\n",
    "\n",
    "## Example: Correct PIN\n",
    "In the following example a secret PIN is given. The user is supposed to enter a PIN and only gets further (i.e. past the\n",
    "`while` loop) when the correct PIN has been entered. Basically the program structure is very similar to the program\n",
    "above."
   ]
  },
  {
   "cell_type": "code",
   "execution_count": 2,
   "metadata": {},
   "outputs": [
    {
     "name": "stdout",
     "output_type": "stream",
     "text": [
      "1234 is correct\n"
     ]
    }
   ],
   "source": [
    "secret_pin = 1234\n",
    "\n",
    "pin = int(input(\"Please enter PIN: \"))\n",
    "\n",
    "while pin != secret_pin:\n",
    "    print(\"The PIN was wrong.\")\n",
    "    pin = int(input(\"Please enter PIN: \"))\n",
    "\n",
    "print(pin, \"is correct\")"
   ]
  },
  {
   "cell_type": "markdown",
   "metadata": {},
   "source": [
    "In reality, you may not try a PIN that often until you succeed. At the ATM, it typically ends after three attempts. How\n",
    "can this be represented in the loop?\n",
    "\n",
    "A more complicated condition is needed that checks if the PIN is ok but also checks the number of attempts. In the\n",
    "following example exactly this is realized."
   ]
  },
  {
   "cell_type": "code",
   "execution_count": 3,
   "metadata": {},
   "outputs": [
    {
     "name": "stdout",
     "output_type": "stream",
     "text": [
      "The PIN was wrong.\n",
      "The PIN was wrong.\n",
      "You entered the wrong PIN three times, your card will be confiscated.\n"
     ]
    }
   ],
   "source": [
    "secret_pin = 1234\n",
    "\n",
    "pin = int(input(\"Please enter PIN: \"))\n",
    "tries = 1\n",
    "\n",
    "while (pin != secret_pin) and (tries < 3):\n",
    "    print(\"The PIN was wrong.\")\n",
    "    pin = int(input(\"Please enter PIN: \"))\n",
    "    tries += 1\n",
    "\n",
    "if pin == secret_pin:\n",
    "    print(pin, \"is correct\")\n",
    "else:\n",
    "    print(\"You entered the wrong PIN three times, your card will be confiscated.\")"
   ]
  },
  {
   "cell_type": "markdown",
   "metadata": {},
   "source": [
    "This program has several *imperfections*, too. A second variable `attempts` is needed, which is initialized before the\n",
    "loop and must be incremented in the loop. After the loop it is not directly recognizable *why* the loop was terminated.\n",
    "Was the PIN correct or was the number of attempts exceeded? Since this is not directly clear, an `if` query must be used\n",
    "first."
   ]
  },
  {
   "cell_type": "markdown",
   "metadata": {},
   "source": [
    "# Example: Simple counter\n",
    "In the above example a counter (`tries`) was needed. This counting up of variables is relatively simple on the one hand,\n",
    "on the other hand very error-prone. \n",
    "\n",
    "In the following, the numbers 1 - 10 are to be output via `print()` with the help of a `while` loop."
   ]
  },
  {
   "cell_type": "code",
   "execution_count": 6,
   "metadata": {},
   "outputs": [
    {
     "name": "stdout",
     "output_type": "stream",
     "text": [
      "1\n",
      "2\n",
      "3\n",
      "4\n",
      "5\n",
      "6\n",
      "7\n",
      "8\n",
      "9\n",
      "10\n"
     ]
    }
   ],
   "source": [
    "# Simple counter\n",
    "# The following program is to count from 1 - 10\n",
    "i = 1\n",
    "while i <= 10:\n",
    "    print(i)\n",
    "    i += 1\n",
    "    "
   ]
  },
  {
   "cell_type": "markdown",
   "metadata": {},
   "source": [
    "It looks pretty straightforward, and it actually is. **But** the trick is in the details: Depending on how the program\n",
    "is structured, it reacts differently in detail:\n",
    "- Should the i be initialized with 1 or with 0?\n",
    "- Should the condition be `i <= 10` or `i < 10`?\n",
    "- Should the i be compared with a 10 or with an 11?\n",
    "- Should the increment (`i += 1`) come before or after the `print()` in the loop body?\n",
    "\n",
    "All these small differences lead to different behaviours of the program. Therefore, when using `while` loops, especially\n",
    "the boundary values should always be checked. Try to manipulate the above program yourself with these changes and make a\n",
    "prediction what the output of the program will be.\n",
    "\n",
    "\n",
    "# A classic error: The infinite loop\n",
    "Another error that can occur is the loop that never stops - the infinite loop. Such a loop is present when the condition\n",
    "always remains `True`. In case of the above example, if the increment is forgotten in the loop body.  \n",
    "Note: To stop the endless loop, you must press the Stop button at the top."
   ]
  },
  {
   "cell_type": "code",
   "execution_count": 8,
   "metadata": {},
   "outputs": [
    {
     "name": "stdout",
     "output_type": "stream",
     "text": [
      "1\n",
      "2\n",
      "3\n",
      "4\n",
      "5\n",
      "6\n",
      "7\n",
      "8\n",
      "9\n",
      "10\n"
     ]
    }
   ],
   "source": [
    "# The following program is to count from 1 - 10\n",
    "i = 1\n",
    "while i <= 10:\n",
    "    print(i)\n",
    "    # Because of the commented out (forgotten) increment, the loop runs endlessly.\n",
    "    # i += 1\n",
    "    i += 1"
   ]
  },
  {
   "cell_type": "markdown",
   "metadata": {},
   "source": [
    "It is much easier to implement the previous two examples using a `for` loop. This implementation is more robust \n",
    "as no manual checking of the boundary cases is required. If possible you should always choose a `for` loop, it's simpler and less error prone.\n",
    "\n",
    "# Example: Guessing a random number\n",
    "\n",
    "An example where the `while` loop comes in handy is the following: A random number between 1 and 100 is generated.\n",
    "Unlike the PIN program, this secret number is not known to the reader of the program. The number should be guessed. If\n",
    "guessed incorrectly, there is a hint that the number searched for is either larger or smaller than the number just\n",
    "guessed. If the number is found, the loop terminates."
   ]
  },
  {
   "cell_type": "code",
   "execution_count": 9,
   "metadata": {},
   "outputs": [
    {
     "name": "stdout",
     "output_type": "stream",
     "text": [
      "The number 33 was too big.\n",
      "The number 11 was too small.\n",
      "The number 15 was too small.\n",
      "The number 16 was too small.\n",
      "The number 18 was too small.\n",
      "The number 19 was too small.\n",
      "The number 20 was too small.\n",
      "Correct! 22 was the number you were looking for.\n"
     ]
    }
   ],
   "source": [
    "import random\n",
    "\n",
    "secret_number = random.randint(1, 100)\n",
    "\n",
    "guessed_number = int(input(\"Please guess a number: \"))\n",
    "\n",
    "while guessed_number != secret_number:\n",
    "    if guessed_number < secret_number:\n",
    "        print(\"The number\", guessed_number, \"was too small.\")\n",
    "    else:\n",
    "        print(\"The number\", guessed_number, \"was too big.\")\n",
    "\n",
    "    guessed_number = int(input(\"Please guess a number: \"))\n",
    "\n",
    "print(\"Correct!\", guessed_number, \"was the number you were looking for.\")"
   ]
  },
  {
   "cell_type": "markdown",
   "metadata": {},
   "source": [
    "# Exiting the loop with a `break`\n",
    "\n",
    "A `while` loop can be exited early using the `break` statement. If the `break` statement is executed, the\n",
    "loop is exited immediately. Also the condition is not checked any more. The `break`\n",
    "only makes sense in combination with an `if` query inside the loop.\n",
    "\n",
    "With the help of the `break` some things can be programmed surprisingly easy. Several students are to be read in (like\n",
    "in Unit 3-1 for tuples). Each student \"consists\" of matriculation number, name, first name. It is not clear how many\n",
    "students will be generated, so a `while` loop is appropriate. The loop should be terminated if an \"empty entry\" is made\n",
    "for the matriculation number, i.e. if the return key is simply pressed. The problem can be solved very nicely as\n",
    "follows."
   ]
  },
  {
   "cell_type": "code",
   "execution_count": null,
   "metadata": {},
   "outputs": [
    {
     "ename": "KeyboardInterrupt",
     "evalue": "Interrupted by user",
     "output_type": "error",
     "traceback": [
      "\u001b[1;31m---------------------------------------------------------------------------\u001b[0m",
      "\u001b[1;31mKeyboardInterrupt\u001b[0m                         Traceback (most recent call last)",
      "Cell \u001b[1;32mIn[11], line 8\u001b[0m\n\u001b[0;32m      6\u001b[0m         \u001b[38;5;28;01mbreak\u001b[39;00m\n\u001b[0;32m      7\u001b[0m     name \u001b[38;5;241m=\u001b[39m \u001b[38;5;28minput\u001b[39m(\u001b[38;5;124m\"\u001b[39m\u001b[38;5;124mEnter name: \u001b[39m\u001b[38;5;124m\"\u001b[39m)\n\u001b[1;32m----> 8\u001b[0m     firstname \u001b[38;5;241m=\u001b[39m \u001b[38;5;28;43minput\u001b[39;49m\u001b[43m(\u001b[49m\u001b[38;5;124;43m\"\u001b[39;49m\u001b[38;5;124;43mEnter first name: \u001b[39;49m\u001b[38;5;124;43m\"\u001b[39;49m\u001b[43m)\u001b[49m\n\u001b[0;32m      9\u001b[0m     list_of_students\u001b[38;5;241m.\u001b[39mappend((matnr, name, firstname))\n\u001b[0;32m     11\u001b[0m \u001b[38;5;28mprint\u001b[39m(list_of_students)\n",
      "File \u001b[1;32m~\\AppData\\Roaming\\Python\\Python313\\site-packages\\ipykernel\\kernelbase.py:1282\u001b[0m, in \u001b[0;36mKernel.raw_input\u001b[1;34m(self, prompt)\u001b[0m\n\u001b[0;32m   1280\u001b[0m     msg \u001b[38;5;241m=\u001b[39m \u001b[38;5;124m\"\u001b[39m\u001b[38;5;124mraw_input was called, but this frontend does not support input requests.\u001b[39m\u001b[38;5;124m\"\u001b[39m\n\u001b[0;32m   1281\u001b[0m     \u001b[38;5;28;01mraise\u001b[39;00m StdinNotImplementedError(msg)\n\u001b[1;32m-> 1282\u001b[0m \u001b[38;5;28;01mreturn\u001b[39;00m \u001b[38;5;28;43mself\u001b[39;49m\u001b[38;5;241;43m.\u001b[39;49m\u001b[43m_input_request\u001b[49m\u001b[43m(\u001b[49m\n\u001b[0;32m   1283\u001b[0m \u001b[43m    \u001b[49m\u001b[38;5;28;43mstr\u001b[39;49m\u001b[43m(\u001b[49m\u001b[43mprompt\u001b[49m\u001b[43m)\u001b[49m\u001b[43m,\u001b[49m\n\u001b[0;32m   1284\u001b[0m \u001b[43m    \u001b[49m\u001b[38;5;28;43mself\u001b[39;49m\u001b[38;5;241;43m.\u001b[39;49m\u001b[43m_parent_ident\u001b[49m\u001b[43m[\u001b[49m\u001b[38;5;124;43m\"\u001b[39;49m\u001b[38;5;124;43mshell\u001b[39;49m\u001b[38;5;124;43m\"\u001b[39;49m\u001b[43m]\u001b[49m\u001b[43m,\u001b[49m\n\u001b[0;32m   1285\u001b[0m \u001b[43m    \u001b[49m\u001b[38;5;28;43mself\u001b[39;49m\u001b[38;5;241;43m.\u001b[39;49m\u001b[43mget_parent\u001b[49m\u001b[43m(\u001b[49m\u001b[38;5;124;43m\"\u001b[39;49m\u001b[38;5;124;43mshell\u001b[39;49m\u001b[38;5;124;43m\"\u001b[39;49m\u001b[43m)\u001b[49m\u001b[43m,\u001b[49m\n\u001b[0;32m   1286\u001b[0m \u001b[43m    \u001b[49m\u001b[43mpassword\u001b[49m\u001b[38;5;241;43m=\u001b[39;49m\u001b[38;5;28;43;01mFalse\u001b[39;49;00m\u001b[43m,\u001b[49m\n\u001b[0;32m   1287\u001b[0m \u001b[43m\u001b[49m\u001b[43m)\u001b[49m\n",
      "File \u001b[1;32m~\\AppData\\Roaming\\Python\\Python313\\site-packages\\ipykernel\\kernelbase.py:1325\u001b[0m, in \u001b[0;36mKernel._input_request\u001b[1;34m(self, prompt, ident, parent, password)\u001b[0m\n\u001b[0;32m   1322\u001b[0m \u001b[38;5;28;01mexcept\u001b[39;00m \u001b[38;5;167;01mKeyboardInterrupt\u001b[39;00m:\n\u001b[0;32m   1323\u001b[0m     \u001b[38;5;66;03m# re-raise KeyboardInterrupt, to truncate traceback\u001b[39;00m\n\u001b[0;32m   1324\u001b[0m     msg \u001b[38;5;241m=\u001b[39m \u001b[38;5;124m\"\u001b[39m\u001b[38;5;124mInterrupted by user\u001b[39m\u001b[38;5;124m\"\u001b[39m\n\u001b[1;32m-> 1325\u001b[0m     \u001b[38;5;28;01mraise\u001b[39;00m \u001b[38;5;167;01mKeyboardInterrupt\u001b[39;00m(msg) \u001b[38;5;28;01mfrom\u001b[39;00m \u001b[38;5;28;01mNone\u001b[39;00m\n\u001b[0;32m   1326\u001b[0m \u001b[38;5;28;01mexcept\u001b[39;00m \u001b[38;5;167;01mException\u001b[39;00m:\n\u001b[0;32m   1327\u001b[0m     \u001b[38;5;28mself\u001b[39m\u001b[38;5;241m.\u001b[39mlog\u001b[38;5;241m.\u001b[39mwarning(\u001b[38;5;124m\"\u001b[39m\u001b[38;5;124mInvalid Message:\u001b[39m\u001b[38;5;124m\"\u001b[39m, exc_info\u001b[38;5;241m=\u001b[39m\u001b[38;5;28;01mTrue\u001b[39;00m)\n",
      "\u001b[1;31mKeyboardInterrupt\u001b[0m: Interrupted by user"
     ]
    }
   ],
   "source": [
    "list_of_students = []\n",
    "\n",
    "while True:\n",
    "    matnr = input(\"Enter matriculation number: \")\n",
    "    if matnr == \"\":\n",
    "        break\n",
    "    name = input(\"Enter name: \")\n",
    "    firstname = input(\"Enter first name: \")\n",
    "    list_of_students.append((matnr, name, firstname))\n",
    "\n",
    "print(list_of_students)\n",
    "\n"
   ]
  },
  {
   "cell_type": "markdown",
   "metadata": {},
   "source": [
    "The beginning `while True:` actually ensures an endless loop, because `True` is always true. The loop can now only be\n",
    "exited with the `break` statement. After the first `input()`, it is checked whether there is a condition for ending the loop\n",
    "and if so, the `break` is called. That means the further `input()`s are not executed any more."
   ]
  },
  {
   "cell_type": "markdown",
   "metadata": {},
   "source": [
    "## Exercise: Increasing value\n",
    "The value of a property increases by *p* percent every year. Write a program that calculates the value of the property\n",
    "for each year until the value has doubled. Use `input()` to ask for the percentage and the initial value.  \n",
    "\n",
    "Example input:\n",
    "\n",
    "```\n",
    "What is the value of the property? 10000  \n",
    "By what percentages does the value increase per year? 5\n",
    "```\n",
    "\n",
    "\n",
    "Example output:\n",
    "\n",
    "```\n",
    "Year 0 - 10000.0  \n",
    "Year 1 - 10500.0 \n",
    "Year 2 - 11025.0\n",
    "Year 3 - 11576.25\n",
    "...\n",
    "```\n"
   ]
  },
  {
   "cell_type": "code",
   "execution_count": 12,
   "metadata": {},
   "outputs": [
    {
     "name": "stdout",
     "output_type": "stream",
     "text": [
      "Year 0 - 21000.0\n",
      "Year 1 - 22050.0\n",
      "Year 2 - 23152.5\n",
      "Year 3 - 24310.125\n",
      "Year 4 - 25525.631250000002\n",
      "Year 5 - 26801.912812500002\n",
      "Year 6 - 28142.008453125003\n",
      "Year 7 - 29549.108875781254\n",
      "Year 8 - 31026.56431957032\n",
      "Year 9 - 32577.892535548835\n",
      "Year 10 - 34206.787162326276\n",
      "Year 11 - 35917.126520442594\n",
      "Year 12 - 37712.98284646473\n",
      "Year 13 - 39598.631988787965\n",
      "Year 14 - 41578.563588227364\n"
     ]
    }
   ],
   "source": [
    "value = int(input(\"What is the value of the property? \")) \n",
    "percentage = float(input(\"By what percentages does the value increase per year? \"))\n",
    "year = 0\n",
    "initial_value = value \n",
    "while value < 2 * initial_value:\n",
    "    value = value * (1 + percentage/100)\n",
    "    print(\"Year\", year, \"-\", value)\n",
    "    year += 1\n"
   ]
  }
 ],
 "metadata": {
  "kernelspec": {
   "display_name": "Python 3",
   "language": "python",
   "name": "python3"
  },
  "language_info": {
   "codemirror_mode": {
    "name": "ipython",
    "version": 3
   },
   "file_extension": ".py",
   "mimetype": "text/x-python",
   "name": "python",
   "nbconvert_exporter": "python",
   "pygments_lexer": "ipython3",
   "version": "3.13.0"
  }
 },
 "nbformat": 4,
 "nbformat_minor": 2
}
