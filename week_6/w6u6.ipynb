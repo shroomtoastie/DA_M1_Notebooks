{
 "cells": [
  {
   "cell_type": "markdown",
   "metadata": {},
   "source": [
    "# Examples of non-standard libraries\n",
    "\n",
    "There are many popular libraries which are not part of the default Python installation. You learned how to find and\n",
    "install them in the previous unit. Now a few libraries are presented. Note that this unit will not give \n",
    "a complete introduction in any of these libraries. Instead the goal of this unit is to give an overview \n",
    "of the large variety of available libraries. \n",
    "\n",
    "\n",
    "## [requests](https://docs.python-requests.org/en/latest/) - HTTP for Humans\n",
    "\n",
    "Using the `requests` library, you can connect to web servers and fetch their content.\n",
    "The [Quickstart Guide](https://docs.python-requests.org/en/latest/user/quickstart/)\n",
    "contains examples on how to use it and what you can do with it."
   ]
  },
  {
   "cell_type": "code",
   "execution_count": 2,
   "metadata": {},
   "outputs": [
    {
     "name": "stdout",
     "output_type": "stream",
     "text": [
      "The word 'Python' is used 1650 times in its Wikipedia entry!\n"
     ]
    }
   ],
   "source": [
    "import requests\n",
    "\n",
    "r = requests.get(\"https://en.wikipedia.org/wiki/Python_(programming_language)\")\n",
    "print(\n",
    "    f\"The word 'Python' is used {r.text.count('Python')} times in its Wikipedia entry!\"\n",
    ")"
   ]
  },
  {
   "cell_type": "markdown",
   "metadata": {},
   "source": [
    "## [BeautifulSoup](https://www.crummy.com/software/BeautifulSoup/bs4/doc/) - Analyzing Webpages\n",
    "\n",
    "BeautifulSoup is a library which perfectly complements requests, the library just introduced. Whereas requests offers the possibility to download webpages, BeautifulSoup supports the analysis of these webpages. (Actually, the name *BeautifulSoup* goes back to syntactically incorrect webpages containing just a \"soup of tags\"). \n",
    "\n",
    "In the following cell, the web-page from [The Guardian](https://www.theguardian.com) is first downloaded with `request.get()`. The content is then analyzed using `BeautifulSoup()`. With the help of the method `.find_all()` all headings of type `h3` are then listed and printed out."
   ]
  },
  {
   "cell_type": "code",
   "execution_count": 6,
   "metadata": {},
   "outputs": [
    {
     "name": "stdout",
     "output_type": "stream",
     "text": [
      "TariffsTrump maintains hard line on Canada after meeting with Trudeau\n",
      "AdministrationJared Kushner’s father picked as ambassador to France\n",
      "Elon MuskBillionaire could use ‘Department of Government Efficiency’ for self-enrichment\n",
      "HouseMinority leader asks for ‘maximum protection’ after bomb threats target Democrats\n",
      "SyriaMilitants reach central Aleppo as government forces appear to retreat\n",
      "Trump administrationDefense secretary nominee Pete Hegseth’s mother called him ‘an abuser of women’\n",
      "Lebanon‘We will fix our homes’: clean-up begins as Lebanon faces uncertain future\n",
      "Middle EastIsrael kills charity worker in Gaza, saying he was Hamas militant\n",
      "IrelandFianna Fáil and Fine Gael in pole position to form new government\n",
      "PFASStudy links higher PFAS levels to ‘superfund’ sites and limited fresh-food access\n",
      "GeorgiaPresident calls government illegitimate, claiming rigged election\n",
      "VirginiaInmates burn themselves in protest at ‘inhumane’ prison conditions\n",
      "CrimeAfter 50 years of mystery, siblings claim hijacker DB Cooper was their father\n",
      "US politicsThe deep historical forces that explain Trump’s win\n",
      "TrumpCabinet criticized as hodgepodge team unified only by ‘absolute fealty’ to him\n",
      "US elections 2024‘Disenfranchised and demobilized’ Native Americans face ballot box barriers in Arizona\n",
      "TechnologyWhy I regret using 23andMe: I gave up my DNA just to find out I’m British\n",
      "BooksNovelist Maggie O’Farrell: ‘Children don’t just need butterflies and rainbows’\n",
      "Smell like Trump'Victory cologne’ for sale as president-elect hawks his wares\n",
      "Artificial intelligenceAI expert Marietje Schaake: ‘The way we think about technology is shaped by the tech companies themselves’\n",
      "Masked owls, wild devils and giant crayfishInside the ancient forests of Tasmania’s Takayna\n",
      "ScienceWhy do we kiss? ‘I am not sure we have anything close to an explanation’\n",
      "Blind date‘She is a good hugger. None of this air-hug, spongy blancmange stuff’\n",
      "SocietyMy friend was a popular, promising artist - how did he end up on the streets of Portland, addicted and dangerous?\n",
      "Wicked would be fun and forgettable but for the alt-right waging dark arts against it\n",
      "Thanksgiving in America, when obsequious Trumpers genuflect to the president-elect\n",
      "Feeding off anger, fuelled by Russia… Enter Călin Georgescu, Europe’s latest radical populist \n",
      "Be disruptive! What queer history tells us about confronting Trump\n",
      "Good palliative care can alleviate the pain of dying – this bill means UK's Labour must fund it\n",
      "It’s heartbreaking so few children read for pleasure – and sad to know the reasons why\n",
      "College footballPolice use pepper spray to break up brawl after Michigan stun No 2 Ohio State\n",
      "SkiingShiffrin’s home bid for historic 100th win ends in nasty crash\n",
      "Formula OneVerstappen grabs surprise Qatar GP pole as McLaren make their play\n",
      "Women's soccerEngland 0-0 USA - Hayes frustrated on Wembley return\n",
      "As it happenedRead Scott Murray's rolling report \n",
      "College football‘I love this place’: Luck returns to Stanford as GM of football program\n",
      "Premier LeagueSaka sparkles as five-star Gunners move up to second\n",
      "World Chess Championship 2024Ding lets Gukesh off hook in Game 5 as match remains deadlocked\n",
      "‘Clean, Old-Fashioned Hate’Georgia pip Georgia Tech in octuple-overtime classic\n",
      "BerkeleyNew powder that captures carbon could be ‘quantum leap’ for industry\n",
      "The age of extinction‘Climate-induced poisoning’: 350 elephants probably killed by toxic water\n",
      "EnvironmentWe need to talk about plastic: five everyday items choking the planet \n",
      "The real cost of cruisesCan you take a clean cruise holiday and which vessels are the worst emitters?\n",
      "WeatherHeavy snowstorms expected to blanket upstate New York and northern Michigan\n",
      "Cryptocurrencies‘It’s almost dirty money’: the older generation of crypto investors benefiting from the ‘Trump pump’\n",
      "‘He loves to divide and conquer’Canada and Mexico brace for second Trump term\n",
      "MetaInstagram actively helping spread of self-harm among teenagers, study finds\n",
      "FamiliesIs it safe to have a child? Americans rethink family planning ahead of Trump’s return\n",
      "US Massachusetts farmers turn cranberry bogs back to wetlands in $6m initiative\n",
      "North Carolina‘Emotionally daunting’: Thanksgiving feels different for those affected by Hurricane Helene\n",
      "Donald TrumpTrump victory not a mandate for radical change, top election forecaster says\n",
      "US elections 2024Democrats criticize Harris for ‘self-congratulatory’ review of election loss\n",
      "DiplomacyChina releases three US citizens held for years in prisoner swap\n",
      "QatarFifa ignores own report into 2022 World Cup over workers’ compensation\n",
      "UkraineZelenskyy says Ukrainian territory should be under ‘Nato umbrella’ to stop war\n",
      "IrelandIreland’s voters unhappy with taoiseach Simon Harris, election exit poll shows\n",
      "CandySmooth Mars bar wins UK man £2 compensation – and internet fame\n",
      "KosovoKosovo arrests eight linked to canal explosion as tensions with Serbia rise\n",
      "British armyDaniel Khalife: the spy who blew his own cover – and exposed gaping holes in UK security\n",
      "UKStarmer deploys royals to charm Gulf leaders in hopes of new trade deal\n",
      "Food & drink industryBeekeepers halt honey awards over ‘huge fraud’ in global supply chain\n",
      "Mohamed Al FayedEx-Harrods director says Mohamed Al Fayed used cash bribes to ‘control’ staff\n",
      "Italy‘I will never give up’: mother seeks new clues about British son missing in Sardinia\n",
      "Today in FocusOne man on his grief for Gaza\n",
      "WeekendThe man who caught his catfish; actor Kaya Scodelario on Skins, scares and sex scenes; and Philippa Perry on coping with the climate crisis – podcast\n",
      "The Audio Long Read‘I couldn’t cry over my children like everyone else’: the tragedy of Palestinian journalist Wael al-Dahdouh – podcast\n",
      "Politics Weekly AmericaHow the left is defending itself in the Democratic blame game – podcast\n",
      "Today in FocusLebanon: a fragile ceasefire in a shattered nation – podcast\n",
      "Football WeeklyLiverpool look the Real deal against Madrid – Football Weekly Extra\n",
      "This much I knowBilly Childish: ‘I idolize myself. I don’t waste my time idolizing other things’\n",
      "History‘Photographs did not do it justice’: King Louis XV’s magnificent rhino is star of new London exhibition\n",
      "The Great British Bake Off‘The Jack Sparrow of baking’: breakout star Dylan Bachelet on fame, fans and life outside the tent\n",
      "Books‘I’m writing a memoir. It’s a pack of lies’: John Banville on a lifetime in books, bereavement, and the Irish love of words\n",
      "Charli xcx reviewA magnificent, one-woman triumph\n",
      "The Q&ACharles Dance: ‘My worst job? Treating sheep for foot rot’\n",
      "FoodThe new foodie rules: bring me a bottle of olive oil, and for God’s sake don’t follow a recipe\n",
      " Yotam Ottolenghi’s Christmas feastTrout rillettes, leek nut-roast tatin, guanciale potatoes and pistachio bombe\n",
      "Vegan Christmas foodMeera Sodha’s vegan recipe for a giant mushroom and pearl barley ‘sausage’ roll\n",
      "Rosie Mackean’s Christmas sidesChorizo parsnips, spicy roast potatoes and three-green gratin\n",
      "BeautyBe honest, have you had work? 11 people open up about what they do – or don’t do – to their face\n",
      "TravelWinter rail adventures in Europe: three itineraries for the colder months\n",
      "TravelThe joy of ‘winterrailing’: my off-season rail adventure in France, Germany and Switzerland\n",
      "Ask UglyI want to ignore beauty culture. But I’ll never get anywhere if I don’t look a certain way\n",
      "Well actuallyThe truth about raw milk and why experts are ‘absolutely horrified’ by the trend\n",
      "Well actuallyI tried an anti-inflammatory diet for a week. This is what I learned\n",
      "Well actuallyHow do I stay healthy in my 50s?\n",
      "We Did Not Consent\n",
      "Trump administrationTell us about the purchases you plan on making ahead of Trump’s proposed tariffs\n",
      "MusicTell us your favourite music albums of 2024\n",
      "HealthcareShare your thoughts on family planning in the US\n",
      "ChristmasTell us your unusual holiday traditions\n",
      "‘Time for compassion to prevail’Could the remaining Bali Nine members finally be coming home?\n",
      "Social media‘His Facebook was a shrine to my face’: the day I caught my catfish\n",
      "UKRevealed: British politics infiltrated by ‘dark money’ with 10% of donations from dubious sources\n",
      "Animal behaviorCan goats predict earthquakes? Can dogs forecast volcanic eruptions? These scientists think so\n",
      "Elon MuskTesla owners turn against Trump-boosting billionaire: ‘I’m embarrassed driving this car around’\n",
      "Attention deficit hyperactivity disorderWhat is ADHD, how do you get a diagnosis and can you only treat it with drugs? All your questions, answered by experts\n",
      "Black Friday‘People forget their manners’: US retail workers brace for Black Friday shopping rush\n",
      "Latin America and the CaribbeanWhat’s behind the alarming rise in birth defects in Brazil’s illegal gold mining capital?\n",
      "BusinessUS grocery workers hit by rising prices: ‘We’re at the bottom of the food chain’\n",
      "Fluoride‘The science of fluoride is starting to evolve’: behind the risks and benefits of the mineral\n",
      "EnvironmentThe short, painful life of your Thanksgiving turkey\n",
      "Sign up for The Long Wave newsletter: our weekly Black life and culture email\n",
      "Sign up for Fighting Back: a pop-up newsletter on defending democracy under Trump\n",
      "Sign up for Well Actually: a free weekly newsletter about health and wellness\n",
      "Sign up for Guardian Headlines US: a daily snapshot of the news straight to your inbox\n",
      "\n",
      "\t\t\t\tPlay the Guardian's daily word game and share your score with your\n",
      "\t\t\t\tfriends\n",
      "\t\t\t\n",
      "ArtCold comfort: watercolours of Paris in winter – in pictures\n",
      "PhotographyThe Observer's best pictures\n",
      "Smart shot‘A lovely opportunity to capture a funny moment’: Lorraine Poole’s best phone picture\n",
      "Twenty photographs of the weekThe week around the world\n",
      "FashionWe love: fashion fixes for the week ahead\n",
      "Photography then and nowFloods in Valencia, Spain\n",
      "Most viewed\n",
      "Deeply read\n"
     ]
    }
   ],
   "source": [
    "import requests\n",
    "from bs4 import BeautifulSoup\n",
    "\n",
    "r = requests.get(\"http://www.theguardian.com\")\n",
    "soup = BeautifulSoup(r.text)\n",
    "\n",
    "for title in soup.find_all(\"h3\"):\n",
    "    print(title.text)"
   ]
  },
  {
   "cell_type": "markdown",
   "metadata": {},
   "source": [
    "## [tkinter](https://docs.python.org/3/library/tkinter.html) - Python interface to Tcl/Tk\n",
    "\n",
    "With `tkinter` you can create a graphical user interface (*GUI*) to extend your program. The\n",
    "[documentation](https://tkdocs.com/index.html) offers a detailed description how to start and how to use it. In the\n",
    "example below, a very basic program is shown to create a window containing a text and a button to close it."
   ]
  },
  {
   "cell_type": "code",
   "execution_count": 7,
   "metadata": {},
   "outputs": [
    {
     "name": "stdout",
     "output_type": "stream",
     "text": [
      "Button was pressed\n",
      "Button was pressed\n",
      "Button was pressed\n",
      "Button was pressed\n"
     ]
    }
   ],
   "source": [
    "from tkinter import *\n",
    " \n",
    "window = Tk()\n",
    "window.title(\"GUI created with tkinter\")\n",
    "window.geometry(\"400x300\")\n",
    "\n",
    "def function_button_1():\n",
    "    print(\"Button was pressed\")\n",
    "    \n",
    "def function_button_2():\n",
    "    window.destroy()\n",
    "\n",
    "btn_1 = Button(window, \n",
    "             text=\"This is a Button\", \n",
    "             background = \"yellow\", \n",
    "             command = function_button_1)\n",
    "btn_1.grid(column=0, row=1)\n",
    "\n",
    "btn_2 = Button(window, \n",
    "             text=\"Quit\", \n",
    "             background = \"red\", \n",
    "             command = function_button_2)\n",
    "btn_2.grid(column=1, row=1)\n",
    "             \n",
    "window.mainloop()"
   ]
  },
  {
   "cell_type": "markdown",
   "metadata": {},
   "source": [
    "## Working with large data sets\n",
    "\n",
    "### [Pandas](https://pandas.pydata.org/) - Python Data Analysis Library\n",
    "\n",
    "The Python module `pandas` can be used to process data sets, which size is only limited by the memory of your computer.\n",
    "It provides methods and functions to analyze and visualize these data sets. \n",
    "\n",
    "In the next cells, you can see some brief basic usage examples how to use `pandas`. The data used in this example\n",
    "contains angular rate and acceleration measurements from an IMU *(Intertial Measuremnt Unit)* which \n",
    "was sampled with 1 kHz (1.000 measurements per second).\n",
    "\n",
    "With `head(`*`x`*`)` and `tail(`*`x`*`)`, you can return the first/last *x* lines of your data."
   ]
  },
  {
   "cell_type": "code",
   "execution_count": 12,
   "metadata": {},
   "outputs": [
    {
     "ename": "FileNotFoundError",
     "evalue": "[Errno 2] No such file or directory: 'gyro_accel.csv'",
     "output_type": "error",
     "traceback": [
      "\u001b[1;31m---------------------------------------------------------------------------\u001b[0m",
      "\u001b[1;31mFileNotFoundError\u001b[0m                         Traceback (most recent call last)",
      "Cell \u001b[1;32mIn[12], line 3\u001b[0m\n\u001b[0;32m      1\u001b[0m \u001b[38;5;28;01mimport\u001b[39;00m \u001b[38;5;21;01mpandas\u001b[39;00m \u001b[38;5;28;01mas\u001b[39;00m \u001b[38;5;21;01mpd\u001b[39;00m\n\u001b[1;32m----> 3\u001b[0m dataframe \u001b[38;5;241m=\u001b[39m \u001b[43mpd\u001b[49m\u001b[38;5;241;43m.\u001b[39;49m\u001b[43mread_csv\u001b[49m\u001b[43m(\u001b[49m\u001b[38;5;124;43m\"\u001b[39;49m\u001b[38;5;124;43mgyro_accel.csv\u001b[39;49m\u001b[38;5;124;43m\"\u001b[39;49m\u001b[43m,\u001b[49m\u001b[43m \u001b[49m\u001b[43msep\u001b[49m\u001b[38;5;241;43m=\u001b[39;49m\u001b[38;5;124;43m\"\u001b[39;49m\u001b[38;5;124;43m;\u001b[39;49m\u001b[38;5;124;43m\"\u001b[39;49m\u001b[43m)\u001b[49m\n\u001b[0;32m      5\u001b[0m \u001b[38;5;28mprint\u001b[39m(dataframe\u001b[38;5;241m.\u001b[39minfo())\n\u001b[0;32m      7\u001b[0m \u001b[38;5;28mprint\u001b[39m(dataframe\u001b[38;5;241m.\u001b[39mhead(\u001b[38;5;241m2\u001b[39m))\n",
      "File \u001b[1;32mc:\\Users\\pwurt\\AppData\\Local\\Programs\\Python\\Python313\\Lib\\site-packages\\pandas\\io\\parsers\\readers.py:1026\u001b[0m, in \u001b[0;36mread_csv\u001b[1;34m(filepath_or_buffer, sep, delimiter, header, names, index_col, usecols, dtype, engine, converters, true_values, false_values, skipinitialspace, skiprows, skipfooter, nrows, na_values, keep_default_na, na_filter, verbose, skip_blank_lines, parse_dates, infer_datetime_format, keep_date_col, date_parser, date_format, dayfirst, cache_dates, iterator, chunksize, compression, thousands, decimal, lineterminator, quotechar, quoting, doublequote, escapechar, comment, encoding, encoding_errors, dialect, on_bad_lines, delim_whitespace, low_memory, memory_map, float_precision, storage_options, dtype_backend)\u001b[0m\n\u001b[0;32m   1013\u001b[0m kwds_defaults \u001b[38;5;241m=\u001b[39m _refine_defaults_read(\n\u001b[0;32m   1014\u001b[0m     dialect,\n\u001b[0;32m   1015\u001b[0m     delimiter,\n\u001b[1;32m   (...)\u001b[0m\n\u001b[0;32m   1022\u001b[0m     dtype_backend\u001b[38;5;241m=\u001b[39mdtype_backend,\n\u001b[0;32m   1023\u001b[0m )\n\u001b[0;32m   1024\u001b[0m kwds\u001b[38;5;241m.\u001b[39mupdate(kwds_defaults)\n\u001b[1;32m-> 1026\u001b[0m \u001b[38;5;28;01mreturn\u001b[39;00m \u001b[43m_read\u001b[49m\u001b[43m(\u001b[49m\u001b[43mfilepath_or_buffer\u001b[49m\u001b[43m,\u001b[49m\u001b[43m \u001b[49m\u001b[43mkwds\u001b[49m\u001b[43m)\u001b[49m\n",
      "File \u001b[1;32mc:\\Users\\pwurt\\AppData\\Local\\Programs\\Python\\Python313\\Lib\\site-packages\\pandas\\io\\parsers\\readers.py:620\u001b[0m, in \u001b[0;36m_read\u001b[1;34m(filepath_or_buffer, kwds)\u001b[0m\n\u001b[0;32m    617\u001b[0m _validate_names(kwds\u001b[38;5;241m.\u001b[39mget(\u001b[38;5;124m\"\u001b[39m\u001b[38;5;124mnames\u001b[39m\u001b[38;5;124m\"\u001b[39m, \u001b[38;5;28;01mNone\u001b[39;00m))\n\u001b[0;32m    619\u001b[0m \u001b[38;5;66;03m# Create the parser.\u001b[39;00m\n\u001b[1;32m--> 620\u001b[0m parser \u001b[38;5;241m=\u001b[39m \u001b[43mTextFileReader\u001b[49m\u001b[43m(\u001b[49m\u001b[43mfilepath_or_buffer\u001b[49m\u001b[43m,\u001b[49m\u001b[43m \u001b[49m\u001b[38;5;241;43m*\u001b[39;49m\u001b[38;5;241;43m*\u001b[39;49m\u001b[43mkwds\u001b[49m\u001b[43m)\u001b[49m\n\u001b[0;32m    622\u001b[0m \u001b[38;5;28;01mif\u001b[39;00m chunksize \u001b[38;5;129;01mor\u001b[39;00m iterator:\n\u001b[0;32m    623\u001b[0m     \u001b[38;5;28;01mreturn\u001b[39;00m parser\n",
      "File \u001b[1;32mc:\\Users\\pwurt\\AppData\\Local\\Programs\\Python\\Python313\\Lib\\site-packages\\pandas\\io\\parsers\\readers.py:1620\u001b[0m, in \u001b[0;36mTextFileReader.__init__\u001b[1;34m(self, f, engine, **kwds)\u001b[0m\n\u001b[0;32m   1617\u001b[0m     \u001b[38;5;28mself\u001b[39m\u001b[38;5;241m.\u001b[39moptions[\u001b[38;5;124m\"\u001b[39m\u001b[38;5;124mhas_index_names\u001b[39m\u001b[38;5;124m\"\u001b[39m] \u001b[38;5;241m=\u001b[39m kwds[\u001b[38;5;124m\"\u001b[39m\u001b[38;5;124mhas_index_names\u001b[39m\u001b[38;5;124m\"\u001b[39m]\n\u001b[0;32m   1619\u001b[0m \u001b[38;5;28mself\u001b[39m\u001b[38;5;241m.\u001b[39mhandles: IOHandles \u001b[38;5;241m|\u001b[39m \u001b[38;5;28;01mNone\u001b[39;00m \u001b[38;5;241m=\u001b[39m \u001b[38;5;28;01mNone\u001b[39;00m\n\u001b[1;32m-> 1620\u001b[0m \u001b[38;5;28mself\u001b[39m\u001b[38;5;241m.\u001b[39m_engine \u001b[38;5;241m=\u001b[39m \u001b[38;5;28;43mself\u001b[39;49m\u001b[38;5;241;43m.\u001b[39;49m\u001b[43m_make_engine\u001b[49m\u001b[43m(\u001b[49m\u001b[43mf\u001b[49m\u001b[43m,\u001b[49m\u001b[43m \u001b[49m\u001b[38;5;28;43mself\u001b[39;49m\u001b[38;5;241;43m.\u001b[39;49m\u001b[43mengine\u001b[49m\u001b[43m)\u001b[49m\n",
      "File \u001b[1;32mc:\\Users\\pwurt\\AppData\\Local\\Programs\\Python\\Python313\\Lib\\site-packages\\pandas\\io\\parsers\\readers.py:1880\u001b[0m, in \u001b[0;36mTextFileReader._make_engine\u001b[1;34m(self, f, engine)\u001b[0m\n\u001b[0;32m   1878\u001b[0m     \u001b[38;5;28;01mif\u001b[39;00m \u001b[38;5;124m\"\u001b[39m\u001b[38;5;124mb\u001b[39m\u001b[38;5;124m\"\u001b[39m \u001b[38;5;129;01mnot\u001b[39;00m \u001b[38;5;129;01min\u001b[39;00m mode:\n\u001b[0;32m   1879\u001b[0m         mode \u001b[38;5;241m+\u001b[39m\u001b[38;5;241m=\u001b[39m \u001b[38;5;124m\"\u001b[39m\u001b[38;5;124mb\u001b[39m\u001b[38;5;124m\"\u001b[39m\n\u001b[1;32m-> 1880\u001b[0m \u001b[38;5;28mself\u001b[39m\u001b[38;5;241m.\u001b[39mhandles \u001b[38;5;241m=\u001b[39m \u001b[43mget_handle\u001b[49m\u001b[43m(\u001b[49m\n\u001b[0;32m   1881\u001b[0m \u001b[43m    \u001b[49m\u001b[43mf\u001b[49m\u001b[43m,\u001b[49m\n\u001b[0;32m   1882\u001b[0m \u001b[43m    \u001b[49m\u001b[43mmode\u001b[49m\u001b[43m,\u001b[49m\n\u001b[0;32m   1883\u001b[0m \u001b[43m    \u001b[49m\u001b[43mencoding\u001b[49m\u001b[38;5;241;43m=\u001b[39;49m\u001b[38;5;28;43mself\u001b[39;49m\u001b[38;5;241;43m.\u001b[39;49m\u001b[43moptions\u001b[49m\u001b[38;5;241;43m.\u001b[39;49m\u001b[43mget\u001b[49m\u001b[43m(\u001b[49m\u001b[38;5;124;43m\"\u001b[39;49m\u001b[38;5;124;43mencoding\u001b[39;49m\u001b[38;5;124;43m\"\u001b[39;49m\u001b[43m,\u001b[49m\u001b[43m \u001b[49m\u001b[38;5;28;43;01mNone\u001b[39;49;00m\u001b[43m)\u001b[49m\u001b[43m,\u001b[49m\n\u001b[0;32m   1884\u001b[0m \u001b[43m    \u001b[49m\u001b[43mcompression\u001b[49m\u001b[38;5;241;43m=\u001b[39;49m\u001b[38;5;28;43mself\u001b[39;49m\u001b[38;5;241;43m.\u001b[39;49m\u001b[43moptions\u001b[49m\u001b[38;5;241;43m.\u001b[39;49m\u001b[43mget\u001b[49m\u001b[43m(\u001b[49m\u001b[38;5;124;43m\"\u001b[39;49m\u001b[38;5;124;43mcompression\u001b[39;49m\u001b[38;5;124;43m\"\u001b[39;49m\u001b[43m,\u001b[49m\u001b[43m \u001b[49m\u001b[38;5;28;43;01mNone\u001b[39;49;00m\u001b[43m)\u001b[49m\u001b[43m,\u001b[49m\n\u001b[0;32m   1885\u001b[0m \u001b[43m    \u001b[49m\u001b[43mmemory_map\u001b[49m\u001b[38;5;241;43m=\u001b[39;49m\u001b[38;5;28;43mself\u001b[39;49m\u001b[38;5;241;43m.\u001b[39;49m\u001b[43moptions\u001b[49m\u001b[38;5;241;43m.\u001b[39;49m\u001b[43mget\u001b[49m\u001b[43m(\u001b[49m\u001b[38;5;124;43m\"\u001b[39;49m\u001b[38;5;124;43mmemory_map\u001b[39;49m\u001b[38;5;124;43m\"\u001b[39;49m\u001b[43m,\u001b[49m\u001b[43m \u001b[49m\u001b[38;5;28;43;01mFalse\u001b[39;49;00m\u001b[43m)\u001b[49m\u001b[43m,\u001b[49m\n\u001b[0;32m   1886\u001b[0m \u001b[43m    \u001b[49m\u001b[43mis_text\u001b[49m\u001b[38;5;241;43m=\u001b[39;49m\u001b[43mis_text\u001b[49m\u001b[43m,\u001b[49m\n\u001b[0;32m   1887\u001b[0m \u001b[43m    \u001b[49m\u001b[43merrors\u001b[49m\u001b[38;5;241;43m=\u001b[39;49m\u001b[38;5;28;43mself\u001b[39;49m\u001b[38;5;241;43m.\u001b[39;49m\u001b[43moptions\u001b[49m\u001b[38;5;241;43m.\u001b[39;49m\u001b[43mget\u001b[49m\u001b[43m(\u001b[49m\u001b[38;5;124;43m\"\u001b[39;49m\u001b[38;5;124;43mencoding_errors\u001b[39;49m\u001b[38;5;124;43m\"\u001b[39;49m\u001b[43m,\u001b[49m\u001b[43m \u001b[49m\u001b[38;5;124;43m\"\u001b[39;49m\u001b[38;5;124;43mstrict\u001b[39;49m\u001b[38;5;124;43m\"\u001b[39;49m\u001b[43m)\u001b[49m\u001b[43m,\u001b[49m\n\u001b[0;32m   1888\u001b[0m \u001b[43m    \u001b[49m\u001b[43mstorage_options\u001b[49m\u001b[38;5;241;43m=\u001b[39;49m\u001b[38;5;28;43mself\u001b[39;49m\u001b[38;5;241;43m.\u001b[39;49m\u001b[43moptions\u001b[49m\u001b[38;5;241;43m.\u001b[39;49m\u001b[43mget\u001b[49m\u001b[43m(\u001b[49m\u001b[38;5;124;43m\"\u001b[39;49m\u001b[38;5;124;43mstorage_options\u001b[39;49m\u001b[38;5;124;43m\"\u001b[39;49m\u001b[43m,\u001b[49m\u001b[43m \u001b[49m\u001b[38;5;28;43;01mNone\u001b[39;49;00m\u001b[43m)\u001b[49m\u001b[43m,\u001b[49m\n\u001b[0;32m   1889\u001b[0m \u001b[43m\u001b[49m\u001b[43m)\u001b[49m\n\u001b[0;32m   1890\u001b[0m \u001b[38;5;28;01massert\u001b[39;00m \u001b[38;5;28mself\u001b[39m\u001b[38;5;241m.\u001b[39mhandles \u001b[38;5;129;01mis\u001b[39;00m \u001b[38;5;129;01mnot\u001b[39;00m \u001b[38;5;28;01mNone\u001b[39;00m\n\u001b[0;32m   1891\u001b[0m f \u001b[38;5;241m=\u001b[39m \u001b[38;5;28mself\u001b[39m\u001b[38;5;241m.\u001b[39mhandles\u001b[38;5;241m.\u001b[39mhandle\n",
      "File \u001b[1;32mc:\\Users\\pwurt\\AppData\\Local\\Programs\\Python\\Python313\\Lib\\site-packages\\pandas\\io\\common.py:873\u001b[0m, in \u001b[0;36mget_handle\u001b[1;34m(path_or_buf, mode, encoding, compression, memory_map, is_text, errors, storage_options)\u001b[0m\n\u001b[0;32m    868\u001b[0m \u001b[38;5;28;01melif\u001b[39;00m \u001b[38;5;28misinstance\u001b[39m(handle, \u001b[38;5;28mstr\u001b[39m):\n\u001b[0;32m    869\u001b[0m     \u001b[38;5;66;03m# Check whether the filename is to be opened in binary mode.\u001b[39;00m\n\u001b[0;32m    870\u001b[0m     \u001b[38;5;66;03m# Binary mode does not support 'encoding' and 'newline'.\u001b[39;00m\n\u001b[0;32m    871\u001b[0m     \u001b[38;5;28;01mif\u001b[39;00m ioargs\u001b[38;5;241m.\u001b[39mencoding \u001b[38;5;129;01mand\u001b[39;00m \u001b[38;5;124m\"\u001b[39m\u001b[38;5;124mb\u001b[39m\u001b[38;5;124m\"\u001b[39m \u001b[38;5;129;01mnot\u001b[39;00m \u001b[38;5;129;01min\u001b[39;00m ioargs\u001b[38;5;241m.\u001b[39mmode:\n\u001b[0;32m    872\u001b[0m         \u001b[38;5;66;03m# Encoding\u001b[39;00m\n\u001b[1;32m--> 873\u001b[0m         handle \u001b[38;5;241m=\u001b[39m \u001b[38;5;28;43mopen\u001b[39;49m\u001b[43m(\u001b[49m\n\u001b[0;32m    874\u001b[0m \u001b[43m            \u001b[49m\u001b[43mhandle\u001b[49m\u001b[43m,\u001b[49m\n\u001b[0;32m    875\u001b[0m \u001b[43m            \u001b[49m\u001b[43mioargs\u001b[49m\u001b[38;5;241;43m.\u001b[39;49m\u001b[43mmode\u001b[49m\u001b[43m,\u001b[49m\n\u001b[0;32m    876\u001b[0m \u001b[43m            \u001b[49m\u001b[43mencoding\u001b[49m\u001b[38;5;241;43m=\u001b[39;49m\u001b[43mioargs\u001b[49m\u001b[38;5;241;43m.\u001b[39;49m\u001b[43mencoding\u001b[49m\u001b[43m,\u001b[49m\n\u001b[0;32m    877\u001b[0m \u001b[43m            \u001b[49m\u001b[43merrors\u001b[49m\u001b[38;5;241;43m=\u001b[39;49m\u001b[43merrors\u001b[49m\u001b[43m,\u001b[49m\n\u001b[0;32m    878\u001b[0m \u001b[43m            \u001b[49m\u001b[43mnewline\u001b[49m\u001b[38;5;241;43m=\u001b[39;49m\u001b[38;5;124;43m\"\u001b[39;49m\u001b[38;5;124;43m\"\u001b[39;49m\u001b[43m,\u001b[49m\n\u001b[0;32m    879\u001b[0m \u001b[43m        \u001b[49m\u001b[43m)\u001b[49m\n\u001b[0;32m    880\u001b[0m     \u001b[38;5;28;01melse\u001b[39;00m:\n\u001b[0;32m    881\u001b[0m         \u001b[38;5;66;03m# Binary mode\u001b[39;00m\n\u001b[0;32m    882\u001b[0m         handle \u001b[38;5;241m=\u001b[39m \u001b[38;5;28mopen\u001b[39m(handle, ioargs\u001b[38;5;241m.\u001b[39mmode)\n",
      "\u001b[1;31mFileNotFoundError\u001b[0m: [Errno 2] No such file or directory: 'gyro_accel.csv'"
     ]
    }
   ],
   "source": [
    "import pandas as pd\n",
    "\n",
    "dataframe = pd.read_csv(\"gyro_accel.csv\", sep=\";\")\n",
    "\n",
    "print(dataframe.info())\n",
    "\n",
    "print(dataframe.head(2))"
   ]
  },
  {
   "cell_type": "markdown",
   "metadata": {},
   "source": [
    "Or you can just select and print one specific column of your data:"
   ]
  },
  {
   "cell_type": "code",
   "execution_count": 10,
   "metadata": {},
   "outputs": [
    {
     "ename": "NameError",
     "evalue": "name 'dataframe' is not defined",
     "output_type": "error",
     "traceback": [
      "\u001b[1;31m---------------------------------------------------------------------------\u001b[0m",
      "\u001b[1;31mNameError\u001b[0m                                 Traceback (most recent call last)",
      "Cell \u001b[1;32mIn[10], line 1\u001b[0m\n\u001b[1;32m----> 1\u001b[0m \u001b[38;5;28mprint\u001b[39m(\u001b[43mdataframe\u001b[49m[\u001b[38;5;124m\"\u001b[39m\u001b[38;5;124mZ_ACCL (32 bit)\u001b[39m\u001b[38;5;124m\"\u001b[39m])\n",
      "\u001b[1;31mNameError\u001b[0m: name 'dataframe' is not defined"
     ]
    }
   ],
   "source": [
    "print(dataframe[\"Z_ACCL (32 bit)\"])"
   ]
  },
  {
   "cell_type": "markdown",
   "metadata": {},
   "source": [
    "You could calculate the mean value of your columns iterating through your data yourself, but with `pandas`, this takes\n",
    "just one function call:"
   ]
  },
  {
   "cell_type": "code",
   "execution_count": null,
   "metadata": {},
   "outputs": [],
   "source": [
    "mean_values = dataframe.mean()\n",
    "print(mean_values)"
   ]
  },
  {
   "cell_type": "markdown",
   "metadata": {},
   "source": [
    "## [Matplotlib](https://matplotlib.org/) - Visualization with Python\n",
    "\n",
    "With `matplotlib` you can create graphs to visualize your data. It works seamlessly with `pandas`\n",
    "and is set as a default library for plotting graphs in pandas. Have a look at the next cell to see an example visualizing\n",
    "the angular rate with a dashed line indicating the mean value."
   ]
  },
  {
   "cell_type": "code",
   "execution_count": 13,
   "metadata": {},
   "outputs": [
    {
     "ename": "NameError",
     "evalue": "name 'dataframe' is not defined",
     "output_type": "error",
     "traceback": [
      "\u001b[1;31m---------------------------------------------------------------------------\u001b[0m",
      "\u001b[1;31mNameError\u001b[0m                                 Traceback (most recent call last)",
      "Cell \u001b[1;32mIn[13], line 6\u001b[0m\n\u001b[0;32m      3\u001b[0m \u001b[38;5;66;03m# set plot size for good visibility\u001b[39;00m\n\u001b[0;32m      4\u001b[0m plt\u001b[38;5;241m.\u001b[39mfigure(figsize\u001b[38;5;241m=\u001b[39m(\u001b[38;5;241m12\u001b[39m, \u001b[38;5;241m6\u001b[39m))\n\u001b[1;32m----> 6\u001b[0m \u001b[43mdataframe\u001b[49m[\u001b[38;5;124m\"\u001b[39m\u001b[38;5;124mZ_GYRO (32 bit)\u001b[39m\u001b[38;5;124m\"\u001b[39m]\u001b[38;5;241m.\u001b[39mplot(color\u001b[38;5;241m=\u001b[39m\u001b[38;5;124m\"\u001b[39m\u001b[38;5;124mblue\u001b[39m\u001b[38;5;124m\"\u001b[39m)\n\u001b[0;32m      8\u001b[0m \u001b[38;5;66;03m# plot mean line for z_gyro values and show plot\u001b[39;00m\n\u001b[0;32m      9\u001b[0m plt\u001b[38;5;241m.\u001b[39maxhline(y\u001b[38;5;241m=\u001b[39mmean_values[\u001b[38;5;241m2\u001b[39m], color\u001b[38;5;241m=\u001b[39m\u001b[38;5;124m\"\u001b[39m\u001b[38;5;124mred\u001b[39m\u001b[38;5;124m\"\u001b[39m, linewidth\u001b[38;5;241m=\u001b[39m\u001b[38;5;241m2\u001b[39m, linestyle\u001b[38;5;241m=\u001b[39m\u001b[38;5;124m\"\u001b[39m\u001b[38;5;124m--\u001b[39m\u001b[38;5;124m\"\u001b[39m)\n",
      "\u001b[1;31mNameError\u001b[0m: name 'dataframe' is not defined"
     ]
    },
    {
     "data": {
      "text/plain": [
       "<Figure size 1200x600 with 0 Axes>"
      ]
     },
     "metadata": {},
     "output_type": "display_data"
    }
   ],
   "source": [
    "import matplotlib.pyplot as plt\n",
    "\n",
    "# set plot size for good visibility\n",
    "plt.figure(figsize=(12, 6))\n",
    "\n",
    "dataframe[\"Z_GYRO (32 bit)\"].plot(color=\"blue\")\n",
    "\n",
    "# plot mean line for z_gyro values and show plot\n",
    "plt.axhline(y=mean_values[2], color=\"red\", linewidth=2, linestyle=\"--\")\n",
    "plt.show()"
   ]
  },
  {
   "cell_type": "markdown",
   "metadata": {},
   "source": [
    "Of course, it is also possible to use `matplotlib` directly. in the following cell a large number of normally \n",
    "distribute values are generated. These values are then displayed using a histogram."
   ]
  },
  {
   "cell_type": "code",
   "execution_count": 14,
   "metadata": {},
   "outputs": [
    {
     "name": "stdout",
     "output_type": "stream",
     "text": [
      "[118.18002592123776, 115.55218603372019, 82.5347570843009, 84.48842621026014, 129.8333667009476, 85.7428913773447, 104.6258839307527, 107.12847963851702, 95.06764269941971, 97.61705807858188]\n"
     ]
    },
    {
     "data": {
      "image/png": "[encoded data removed]",
      "text/plain": [
       "<Figure size 640x480 with 1 Axes>"
      ]
     },
     "metadata": {},
     "output_type": "display_data"
    }
   ],
   "source": [
    "import random\n",
    "import matplotlib.pyplot as plt\n",
    "\n",
    "random_values = []\n",
    "for _ in range(100000):\n",
    "    random_values.append(random.gauss(mu=100, sigma=20))\n",
    "\n",
    "print(random_values[:10])\n",
    "\n",
    "plt.hist(random_values, bins=500, alpha=0.5)\n",
    "plt.ylabel(\"count\")\n",
    "plt.grid(True)"
   ]
  },
  {
   "cell_type": "code",
   "execution_count": null,
   "metadata": {},
   "outputs": [],
   "source": []
  }
 ],
 "metadata": {
  "interpreter": {
   "hash": "b89b5cfaba6639976dc87ff2fec6d58faec662063367e2c229c520fe71072417"
  },
  "kernelspec": {
   "display_name": "Python 3",
   "language": "python",
   "name": "python3"
  },
  "language_info": {
   "codemirror_mode": {
    "name": "ipython",
    "version": 3
   },
   "file_extension": ".py",
   "mimetype": "text/x-python",
   "name": "python",
   "nbconvert_exporter": "python",
   "pygments_lexer": "ipython3",
   "version": "3.13.0"
  }
 },
 "nbformat": 4,
 "nbformat_minor": 2
}
