{
 "cells": [
  {
   "cell_type": "markdown",
   "metadata": {},
   "source": [
    "# The `math`, the `random` and the `statistics` libraries \n",
    "This unit focuses on using different functionalities provided by the `math`, `random` and `statistics` libraries. \n",
    "These libraries are part of the [Python Standard Library](https://docs.python.org/3/library/index.html).\n",
    "In order to explore these libraries two exercises are used. To familiarize yourself with the Python Standard Library and\n",
    "the documentation it is highly recommended that you try to solve the exercises yourself before looking at the solutions.\n",
    "\n",
    "\n",
    "## Exercises\n",
    "\n",
    "### Exercise 1 - The `math` library\n",
    "\n",
    "Write a program that performs the following tasks:\n",
    "1. Get a integer number from the user\n",
    "1. Calculate the factorial ($x!$) of this number\n",
    "1. Calculate the natural logarithm and the logarithm to the base 10 of the number\n",
    "\n",
    "Explore the [documentation](https://docs.python.org/3/library/math.html) of the `math` library to find suitable\n",
    "functions."
   ]
  },
  {
   "cell_type": "code",
   "execution_count": 5,
   "metadata": {},
   "outputs": [
    {
     "name": "stdout",
     "output_type": "stream",
     "text": [
      "100 ! is 93326215443944152681699238856266700490715968264381621468592963895217599993229915608941463976156518286253697920827223758251185210916864000000000000000000000000\n",
      "The natural logarithm of 100 is 4.605170185988092\n",
      "The base 10 logarithm of 100 is 2.0\n"
     ]
    }
   ],
   "source": [
    "# Implement your solution here\n",
    "import math as m \n",
    "\n",
    "number = int(input(\"Please enter a number: \"))\n",
    "number_fac = m.factorial(number)\n",
    "\n",
    "natural_log = m.log(number)\n",
    "log_base_10 = m.log10(number)\n",
    "\n",
    "print(number, \"! is\", number_fac)\n",
    "print(\"The natural logarithm of\", number, \"is\", natural_log)\n",
    "print(\"The base 10 logarithm of\", number, \"is\", log_base_10)\n",
    "\n",
    "\n",
    "\n"
   ]
  },
  {
   "cell_type": "markdown",
   "metadata": {},
   "source": [
    "### Exercise 2 - The `random` and `statistics` libraries\n",
    "\n",
    "Use functions from the `random` and `statistics` libraries to\n",
    "- generate a list of 100 random integer numbers between 1 and 10\n",
    "- calculate the mean of this list\n",
    "- calculate the median of this list\n",
    "- calculate the variance of this list\n",
    "\n",
    "Explore the documentation of the [`random`](https://docs.python.org/3/library/random.html) and the\n",
    "[`statistics`](https://docs.python.org/3/library/statistics.html) libraries to find suitable functions. "
   ]
  },
  {
   "cell_type": "code",
   "execution_count": 30,
   "metadata": {},
   "outputs": [
    {
     "name": "stdout",
     "output_type": "stream",
     "text": [
      "The mean value of the list is 5.65\n",
      "The median value of the list is 6.0\n",
      "The variance value of the list is 7.7853535353535355\n"
     ]
    }
   ],
   "source": [
    "# Implement your solution here\n",
    "import random\n",
    "import statistics as s\n",
    "\n",
    "random_numbers = [random.randint(1,10) for _ in range(100)]\n",
    "\n",
    "print(\"The mean value of the list is\", s.mean(random_numbers))\n",
    "print(\"The median value of the list is\", s.median(random_numbers))\n",
    "print(\"The variance value of the list is\", s.variance(random_numbers))\n",
    "\n"
   ]
  }
 ],
 "metadata": {
  "interpreter": {
   "hash": "9fd0e282e2343d8b38b390b803aabc7fcea80a18eee8e5bd23ce64f6435b30a1"
  },
  "kernelspec": {
   "display_name": "Python 3",
   "language": "python",
   "name": "python3"
  },
  "language_info": {
   "codemirror_mode": {
    "name": "ipython",
    "version": 3
   },
   "file_extension": ".py",
   "mimetype": "text/x-python",
   "name": "python",
   "nbconvert_exporter": "python",
   "pygments_lexer": "ipython3",
   "version": "3.13.0"
  }
 },
 "nbformat": 4,
 "nbformat_minor": 2
}
